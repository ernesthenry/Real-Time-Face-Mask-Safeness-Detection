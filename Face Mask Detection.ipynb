{
 "cells": [
  {
   "cell_type": "code",
   "execution_count": 1,
   "metadata": {},
   "outputs": [],
   "source": [
    "import cv2\n",
    "import tensorflow as tf\n",
    "from tensorflow.keras.models import load_model\n",
    "from keras.preprocessing import image"
   ]
  },
  {
   "cell_type": "code",
   "execution_count": 2,
   "metadata": {},
   "outputs": [],
   "source": [
    "model = load_model(r'C:\\Users\\admin\\Downloads\\Masks\\CNN\\mask_predict.h5')\n",
    "\n",
    "harr_path = r'C:\\Users\\admin\\Downloads\\Masks\\Cascades\\lbpcascades\\lbpcascade_frontalface.xml'\n",
    "cascade = cv2.CascadeClassifier(harr_path)"
   ]
  },
  {
   "cell_type": "code",
   "execution_count": 3,
   "metadata": {},
   "outputs": [],
   "source": [
    "def detect_face_mask_video(img):\n",
    "    \n",
    "    global model\n",
    "        \n",
    "    shift = 60\n",
    "    \n",
    "    img_gray = cv2.cvtColor(img , cv2.COLOR_BGR2GRAY)\n",
    "    dims = cascade.detectMultiScale(img_gray)\n",
    "    \n",
    "    for (x,y,w,h) in dims:\n",
    "        \n",
    "        roi = img[y-shift:y+h+shift , x-shift:x+w+shift]\n",
    "        roi = cv2.cvtColor(roi , cv2.COLOR_BGR2RGB)\n",
    "        roi = cv2.resize(roi , dsize=(256,256))\n",
    "        Class = model.predict(tf.expand_dims(roi , axis=0))\n",
    "                \n",
    "        if (Class[0] == 1):\n",
    "            cv2.rectangle(img , (x,y) , (x+w,y+h) , (0,0,255) , 2)     # No Masks\n",
    "            cv2.putText(img, text='UNSAFE', org=(x,y-2), fontFace=cv2.FONT_HERSHEY_SIMPLEX, fontScale=1, color=(0,0,255), thickness=4, lineType=cv2.LINE_AA)\n",
    "        else:\n",
    "            cv2.rectangle(img , (x,y) , (x+w,y+h) , (0,255,0) , 2)     # Masks\n",
    "            cv2.putText(img, text='SAFE', org=(x,y-2), fontFace=cv2.FONT_HERSHEY_SIMPLEX, fontScale=1, color=(0,255,0), thickness=4, lineType=cv2.LINE_AA)\n",
    "    \n",
    "    return img"
   ]
  },
  {
   "cell_type": "code",
   "execution_count": 4,
   "metadata": {},
   "outputs": [],
   "source": [
    "cam = cv2.VideoCapture(0)\n",
    "\n",
    "width = int(cam.get(cv2.CAP_PROP_FRAME_WIDTH))\n",
    "height = int(cam.get(cv2.CAP_PROP_FRAME_HEIGHT))\n",
    "\n",
    "writer = cv2.VideoWriter(r'Desktop\\My Video.mp4', cv2.VideoWriter_fourcc(*'DIVX'), 20, (width, height))\n",
    "\n",
    "while True:\n",
    "    \n",
    "    _, frame = cam.read()\n",
    "    frame = detect_face_mask_video(cv2.flip(frame , 1))\n",
    "    writer.write(frame)\n",
    "    cv2.imshow(\"Web Cam\" , frame)\n",
    "    \n",
    "    if cv2.waitKey(1) & 0xFF == ord('q'):\n",
    "        break\n",
    "\n",
    "cam.release()\n",
    "writer.release()\n",
    "cv2.destroyAllWindows()"
   ]
  }
 ],
 "metadata": {
  "kernelspec": {
   "display_name": "Python 3",
   "language": "python",
   "name": "python3"
  },
  "language_info": {
   "codemirror_mode": {
    "name": "ipython",
    "version": 3
   },
   "file_extension": ".py",
   "mimetype": "text/x-python",
   "name": "python",
   "nbconvert_exporter": "python",
   "pygments_lexer": "ipython3",
   "version": "3.7.6"
  }
 },
 "nbformat": 4,
 "nbformat_minor": 4
}
