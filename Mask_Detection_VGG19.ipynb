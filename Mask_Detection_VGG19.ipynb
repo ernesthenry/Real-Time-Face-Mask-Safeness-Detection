{
  "nbformat": 4,
  "nbformat_minor": 0,
  "metadata": {
    "colab": {
      "name": "Mask_Detection_VGG19.ipynb",
      "provenance": [],
      "collapsed_sections": []
    },
    "kernelspec": {
      "name": "python3",
      "display_name": "Python 3"
    },
    "accelerator": "GPU"
  },
  "cells": [
    {
      "cell_type": "markdown",
      "metadata": {
        "id": "M3RIaPFGU0oQ",
        "colab_type": "text"
      },
      "source": [
        "**Imports**"
      ]
    },
    {
      "cell_type": "code",
      "metadata": {
        "id": "NrowbbZEwaOt",
        "colab_type": "code",
        "colab": {
          "base_uri": "https://localhost:8080/",
          "height": 102
        },
        "outputId": "461dc0e8-2dd7-4563-f391-c2758e2f4807"
      },
      "source": [
        "pip install patool"
      ],
      "execution_count": null,
      "outputs": [
        {
          "output_type": "stream",
          "text": [
            "Collecting patool\n",
            "\u001b[?25l  Downloading https://files.pythonhosted.org/packages/43/94/52243ddff508780dd2d8110964320ab4851134a55ab102285b46e740f76a/patool-1.12-py2.py3-none-any.whl (77kB)\n",
            "\r\u001b[K     |████▎                           | 10kB 18.1MB/s eta 0:00:01\r\u001b[K     |████████▌                       | 20kB 4.7MB/s eta 0:00:01\r\u001b[K     |████████████▊                   | 30kB 6.1MB/s eta 0:00:01\r\u001b[K     |█████████████████               | 40kB 6.1MB/s eta 0:00:01\r\u001b[K     |█████████████████████▏          | 51kB 5.2MB/s eta 0:00:01\r\u001b[K     |█████████████████████████▍      | 61kB 5.8MB/s eta 0:00:01\r\u001b[K     |█████████████████████████████▋  | 71kB 6.3MB/s eta 0:00:01\r\u001b[K     |████████████████████████████████| 81kB 3.6MB/s \n",
            "\u001b[?25hInstalling collected packages: patool\n",
            "Successfully installed patool-1.12\n"
          ],
          "name": "stdout"
        }
      ]
    },
    {
      "cell_type": "code",
      "metadata": {
        "id": "HQjqUh4Rgf2H",
        "colab_type": "code",
        "colab": {}
      },
      "source": [
        "import os\n",
        "import shutil\n",
        "import patoolib\n",
        "import pandas as pd\n",
        "import numpy as np\n",
        "import matplotlib.pyplot as plt\n",
        "%matplotlib inline\n",
        "\n",
        "from tensorflow.keras.preprocessing.image import ImageDataGenerator\n",
        "from sklearn.model_selection import train_test_split\n",
        "from sklearn.metrics import confusion_matrix \n",
        "from sklearn.metrics import classification_report \n",
        "\n",
        "from tensorflow.keras.callbacks import EarlyStopping\n",
        "from tensorflow.keras.callbacks import ReduceLROnPlateau\n",
        "\n",
        "import tensorflow as tf\n",
        "from tensorflow.keras import layers\n",
        "from tensorflow.keras import Model\n",
        "from tensorflow.keras.models import Sequential\n",
        "from tensorflow.keras.layers import Conv2D, Dense, Dropout, MaxPool2D, BatchNormalization, Flatten\n",
        "from tensorflow.keras.optimizers import RMSprop\n",
        "\n",
        "from tensorflow.keras.applications import DenseNet121\n",
        "from tensorflow.keras.applications import ResNet50\n",
        "from tensorflow.keras.applications import VGG19\n",
        "from tensorflow.keras.applications import VGG16\n",
        "from tensorflow.keras.applications import InceptionV3"
      ],
      "execution_count": null,
      "outputs": []
    },
    {
      "cell_type": "markdown",
      "metadata": {
        "id": "-G4JhnYPU8eB",
        "colab_type": "text"
      },
      "source": [
        "**Extraction**"
      ]
    },
    {
      "cell_type": "code",
      "metadata": {
        "id": "7wh2byflwtaG",
        "colab_type": "code",
        "colab": {
          "base_uri": "https://localhost:8080/",
          "height": 103
        },
        "outputId": "0452b2d9-9a81-40a4-95f2-032ca1f6203d"
      },
      "source": [
        "# Extracting dataset from .rar to desired folder\n",
        "\n",
        "os.mkdir(r'/content/extracted_content')\n",
        "\n",
        "patoolib.extract_archive(r'/content/drive/My Drive/Data Science Projects/Face Mask Safeness Detection/New Masks Dataset.rar', \n",
        "                         outdir = r'/content/extracted_content' , verbosity=0)"
      ],
      "execution_count": null,
      "outputs": [
        {
          "output_type": "stream",
          "text": [
            "patool: Extracting /content/drive/My Drive/Data Science Projects/Face Mask Safeness Detection/New Masks Dataset.rar ...\n",
            "patool: running /usr/bin/unrar x -- \"/content/drive/My Drive/Data Science Projects/Face Mask Safeness Detection/New Masks Dataset.rar\"\n",
            "patool:     with cwd='/content/extracted_content'\n",
            "patool: ... /content/drive/My Drive/Data Science Projects/Face Mask Safeness Detection/New Masks Dataset.rar extracted to `/content/extracted_content'.\n"
          ],
          "name": "stdout"
        },
        {
          "output_type": "execute_result",
          "data": {
            "application/vnd.google.colaboratory.intrinsic": {
              "type": "string"
            },
            "text/plain": [
              "'/content/extracted_content'"
            ]
          },
          "metadata": {
            "tags": []
          },
          "execution_count": 10
        }
      ]
    },
    {
      "cell_type": "markdown",
      "metadata": {
        "id": "nXgaT_piVOjy",
        "colab_type": "text"
      },
      "source": [
        "**Creating Necessary Files**"
      ]
    },
    {
      "cell_type": "code",
      "metadata": {
        "id": "_NFaX8uCkQfp",
        "colab_type": "code",
        "colab": {
          "base_uri": "https://localhost:8080/",
          "height": 51
        },
        "outputId": "70f91d56-57c5-4ecd-e218-b6e35bc25caf"
      },
      "source": [
        "mask_files = []\n",
        "non_mask_files = []\n",
        "path = r'/content/extracted_content/New Masks Dataset/Test/Mask/'\n",
        "for _, _, f in os.walk(path):\n",
        "    mask_files = f.copy()\n",
        "\n",
        "path = r'/content/extracted_content/New Masks Dataset/Test/Non Mask/'\n",
        "for _, _, f in os.walk(path):\n",
        "    non_mask_files = f.copy()\n",
        "\n",
        "print(\"{} Mask Images Found in class 0.\".format(len(mask_files)))\n",
        "print(\"{} Non Mask Images Found in class 1.\".format(len(non_mask_files)))"
      ],
      "execution_count": null,
      "outputs": [
        {
          "output_type": "stream",
          "text": [
            "50 Mask Images Found in class 0.\n",
            "50 Non Mask Images Found in class 1.\n"
          ],
          "name": "stdout"
        }
      ]
    },
    {
      "cell_type": "code",
      "metadata": {
        "id": "28MyRb0RkA9v",
        "colab_type": "code",
        "colab": {}
      },
      "source": [
        "mask = pd.DataFrame({\"Image\":mask_files , 'Class':list(np.zeros(len(mask_files) , dtype='int8'))})\n",
        "non_mask = pd.DataFrame({\"Image\":non_mask_files , 'Class':list(np.ones(len(non_mask_files) , dtype='int8'))})"
      ],
      "execution_count": null,
      "outputs": []
    },
    {
      "cell_type": "code",
      "metadata": {
        "id": "4mbhq_pn0ixh",
        "colab_type": "code",
        "colab": {}
      },
      "source": [
        "test = pd.concat([mask,non_mask] , ignore_index=True)\n",
        "test = test.sample(frac=1).reset_index(drop=True)\n",
        "\n",
        "for i in range(len(test)):\n",
        "    if (test.loc[i,'Class'] == 0):\n",
        "        test.loc[i,'Class'] = \"Mask\"\n",
        "    else:\n",
        "        test.loc[i,'Class'] = \"Non_Mask\""
      ],
      "execution_count": null,
      "outputs": []
    },
    {
      "cell_type": "markdown",
      "metadata": {
        "id": "3HMUI4TgViFL",
        "colab_type": "text"
      },
      "source": [
        "**Moving and Deleting files**"
      ]
    },
    {
      "cell_type": "code",
      "metadata": {
        "id": "Nhs71loCpxFF",
        "colab_type": "code",
        "colab": {}
      },
      "source": [
        "# Making all images directory\n",
        "os.mkdir(r'/content/extracted_content/New Masks Dataset/Test/Unknown')"
      ],
      "execution_count": null,
      "outputs": []
    },
    {
      "cell_type": "code",
      "metadata": {
        "id": "EGrIQY3Fqg59",
        "colab_type": "code",
        "colab": {}
      },
      "source": [
        "dest = r'/content/extracted_content/New Masks Dataset/Test/Unknown'\n",
        "\n",
        "for i in range(len(mask)):\n",
        "    source = r'/content/extracted_content/New Masks Dataset/Test/Mask/' + str(mask.loc[i , 'Image'])\n",
        "    shutil.move(source , dest)\n",
        "\n",
        "for i in range(len(non_mask)):\n",
        "    source = r'/content/extracted_content/New Masks Dataset/Test/Non Mask/' + str(non_mask.loc[i , 'Image'])\n",
        "    shutil.move(source , dest)\n",
        "\n",
        "# Deleting unnecessary folders\n",
        "shutil.rmtree(r'/content/extracted_content/New Masks Dataset/Test/Mask/')\n",
        "shutil.rmtree(r'/content/extracted_content/New Masks Dataset/Test/Non Mask/')"
      ],
      "execution_count": null,
      "outputs": []
    },
    {
      "cell_type": "markdown",
      "metadata": {
        "id": "pFAFyR9FVvxr",
        "colab_type": "text"
      },
      "source": [
        "**Image Augmentation**"
      ]
    },
    {
      "cell_type": "code",
      "metadata": {
        "id": "CbaBYhWBzobv",
        "colab_type": "code",
        "colab": {
          "base_uri": "https://localhost:8080/",
          "height": 68
        },
        "outputId": "9543485d-9c2a-424c-af04-a849c90fd7fb"
      },
      "source": [
        "train_datagen = ImageDataGenerator(rotation_range = 30 , shear_range=.15 , zoom_range=.15,\n",
        "                                  width_shift_range=.2 , height_shift_range=.2 , rescale=1/255,\n",
        "                                  brightness_range=[.5,1.5] , horizontal_flip=True , fill_mode='nearest')\n",
        "\n",
        "train_generator = train_datagen.flow_from_directory(r\"/content/extracted_content/New Masks Dataset/Train\",\n",
        "                                      class_mode = 'binary', batch_size=20, target_size = (256,256) , shuffle=True)\n",
        "\n",
        "val_datagen = ImageDataGenerator(rotation_range = 30 , shear_range=.15 , zoom_range=.15,\n",
        "                                  width_shift_range=.2 , height_shift_range=.2 , rescale=1/255,\n",
        "                                  brightness_range=[.5,1.5] , horizontal_flip=True , fill_mode='nearest')\n",
        "\n",
        "val_generator = train_datagen.flow_from_directory(r\"/content/extracted_content/New Masks Dataset/Validation\",\n",
        "                                      class_mode = 'binary', batch_size=20, target_size = (256,256) , shuffle=True)\n",
        "\n",
        "test_datagen = ImageDataGenerator(rescale=1/255)\n",
        "\n",
        "test_generator = test_datagen.flow_from_dataframe(test , r\"/content/extracted_content/New Masks Dataset/Test/Unknown\" ,\n",
        "                                              x_col='Image', y_col=None , target_size = (256,256) ,\n",
        "                                              class_mode = None , batch_size = 1 , shuffle = False)"
      ],
      "execution_count": null,
      "outputs": [
        {
          "output_type": "stream",
          "text": [
            "Found 600 images belonging to 2 classes.\n",
            "Found 306 images belonging to 2 classes.\n",
            "Found 100 validated image filenames.\n"
          ],
          "name": "stdout"
        }
      ]
    },
    {
      "cell_type": "markdown",
      "metadata": {
        "id": "s2F40Cc8VzCT",
        "colab_type": "text"
      },
      "source": [
        "**Callbacks**"
      ]
    },
    {
      "cell_type": "code",
      "metadata": {
        "id": "SkqU-OPz1RDD",
        "colab_type": "code",
        "colab": {}
      },
      "source": [
        "class myCallback(tf.keras.callbacks.Callback):\n",
        "    def on_epoch_end(self, epoch, logs={}):\n",
        "        if(logs.get('accuracy') > 0.99):\n",
        "            print(\"\\nReached 99.00% accuracy so cancelling training!\")\n",
        "            self.model.stop_training = True\n",
        "callbacks = myCallback()\n",
        "\n",
        "LR_reduce = ReduceLROnPlateau(monitor='val_accuracy' , factor=.5 , patience=5 , min_lr=.000001 , verbose=1)\n",
        "\n",
        "ES_monitor = EarlyStopping(monitor='val_loss' , patience=5)"
      ],
      "execution_count": null,
      "outputs": []
    },
    {
      "cell_type": "markdown",
      "metadata": {
        "id": "UhcEGCZ7WJr1",
        "colab_type": "text"
      },
      "source": [
        "**Model Creation**"
      ]
    },
    {
      "cell_type": "code",
      "metadata": {
        "id": "KO20256n2ddw",
        "colab_type": "code",
        "colab": {
          "base_uri": "https://localhost:8080/",
          "height": 935
        },
        "outputId": "27cf5bc2-dce8-487c-97e0-0f1c694db803"
      },
      "source": [
        "# Resets global graph , counters etc.\n",
        "\n",
        "tf.keras.backend.clear_session()\n",
        "tf.random.set_seed(51)\n",
        "np.random.seed(51)\n",
        "\n",
        "pre_trained_model = VGG19(input_shape = (256, 256, 3), include_top = False, weights = \"imagenet\" )\n",
        "\n",
        "for layer in pre_trained_model.layers:\n",
        "      layer.trainable = False\n",
        "\n",
        "pre_trained_model.summary()"
      ],
      "execution_count": null,
      "outputs": [
        {
          "output_type": "stream",
          "text": [
            "Downloading data from https://storage.googleapis.com/tensorflow/keras-applications/vgg19/vgg19_weights_tf_dim_ordering_tf_kernels_notop.h5\n",
            "80142336/80134624 [==============================] - 2s 0us/step\n",
            "Model: \"vgg19\"\n",
            "_________________________________________________________________\n",
            "Layer (type)                 Output Shape              Param #   \n",
            "=================================================================\n",
            "input_1 (InputLayer)         [(None, 256, 256, 3)]     0         \n",
            "_________________________________________________________________\n",
            "block1_conv1 (Conv2D)        (None, 256, 256, 64)      1792      \n",
            "_________________________________________________________________\n",
            "block1_conv2 (Conv2D)        (None, 256, 256, 64)      36928     \n",
            "_________________________________________________________________\n",
            "block1_pool (MaxPooling2D)   (None, 128, 128, 64)      0         \n",
            "_________________________________________________________________\n",
            "block2_conv1 (Conv2D)        (None, 128, 128, 128)     73856     \n",
            "_________________________________________________________________\n",
            "block2_conv2 (Conv2D)        (None, 128, 128, 128)     147584    \n",
            "_________________________________________________________________\n",
            "block2_pool (MaxPooling2D)   (None, 64, 64, 128)       0         \n",
            "_________________________________________________________________\n",
            "block3_conv1 (Conv2D)        (None, 64, 64, 256)       295168    \n",
            "_________________________________________________________________\n",
            "block3_conv2 (Conv2D)        (None, 64, 64, 256)       590080    \n",
            "_________________________________________________________________\n",
            "block3_conv3 (Conv2D)        (None, 64, 64, 256)       590080    \n",
            "_________________________________________________________________\n",
            "block3_conv4 (Conv2D)        (None, 64, 64, 256)       590080    \n",
            "_________________________________________________________________\n",
            "block3_pool (MaxPooling2D)   (None, 32, 32, 256)       0         \n",
            "_________________________________________________________________\n",
            "block4_conv1 (Conv2D)        (None, 32, 32, 512)       1180160   \n",
            "_________________________________________________________________\n",
            "block4_conv2 (Conv2D)        (None, 32, 32, 512)       2359808   \n",
            "_________________________________________________________________\n",
            "block4_conv3 (Conv2D)        (None, 32, 32, 512)       2359808   \n",
            "_________________________________________________________________\n",
            "block4_conv4 (Conv2D)        (None, 32, 32, 512)       2359808   \n",
            "_________________________________________________________________\n",
            "block4_pool (MaxPooling2D)   (None, 16, 16, 512)       0         \n",
            "_________________________________________________________________\n",
            "block5_conv1 (Conv2D)        (None, 16, 16, 512)       2359808   \n",
            "_________________________________________________________________\n",
            "block5_conv2 (Conv2D)        (None, 16, 16, 512)       2359808   \n",
            "_________________________________________________________________\n",
            "block5_conv3 (Conv2D)        (None, 16, 16, 512)       2359808   \n",
            "_________________________________________________________________\n",
            "block5_conv4 (Conv2D)        (None, 16, 16, 512)       2359808   \n",
            "_________________________________________________________________\n",
            "block5_pool (MaxPooling2D)   (None, 8, 8, 512)         0         \n",
            "=================================================================\n",
            "Total params: 20,024,384\n",
            "Trainable params: 0\n",
            "Non-trainable params: 20,024,384\n",
            "_________________________________________________________________\n"
          ],
          "name": "stdout"
        }
      ]
    },
    {
      "cell_type": "code",
      "metadata": {
        "id": "9If8DMg96rPA",
        "colab_type": "code",
        "colab": {}
      },
      "source": [
        "last_layer = pre_trained_model.get_layer('block5_pool')\n",
        "last_output = last_layer.output\n",
        "\n",
        "x = layers.Flatten()(last_output)\n",
        "x = layers.Dense(500, activation='relu')(x)\n",
        "x = layers.Dropout(0.2)(x)\n",
        "x = layers.Dense(500, activation='relu')(x)\n",
        "x = layers.Dropout(0.2)(x)\n",
        "x = layers.Dense(1, activation='sigmoid')(x)           \n",
        "\n",
        "model = Model( pre_trained_model.input, x) \n",
        "\n",
        "model.compile(optimizer='rmsprop', loss = 'binary_crossentropy', metrics=['accuracy'])"
      ],
      "execution_count": null,
      "outputs": []
    },
    {
      "cell_type": "code",
      "metadata": {
        "id": "-F3Yk2kN33gE",
        "colab_type": "code",
        "colab": {
          "base_uri": "https://localhost:8080/",
          "height": 595
        },
        "outputId": "b27083db-ea75-4961-a012-69f96198a88d"
      },
      "source": [
        "history = model.fit(train_generator , validation_data = val_generator , batch_size=20 , validation_batch_size=20 ,\n",
        "                    epochs=50 , verbose=1 , steps_per_epoch=30 , validation_steps=16 , callbacks=[callbacks,LR_reduce,ES_monitor])"
      ],
      "execution_count": null,
      "outputs": [
        {
          "output_type": "stream",
          "text": [
            "Epoch 1/50\n",
            "30/30 [==============================] - 33s 1s/step - loss: 5.3340 - accuracy: 0.5717 - val_loss: 0.4206 - val_accuracy: 0.7810 - lr: 0.0010\n",
            "Epoch 2/50\n",
            "30/30 [==============================] - 31s 1s/step - loss: 0.7710 - accuracy: 0.6933 - val_loss: 0.4568 - val_accuracy: 0.7778 - lr: 0.0010\n",
            "Epoch 3/50\n",
            "30/30 [==============================] - 31s 1s/step - loss: 0.5098 - accuracy: 0.7900 - val_loss: 0.3099 - val_accuracy: 0.8856 - lr: 0.0010\n",
            "Epoch 4/50\n",
            "30/30 [==============================] - 31s 1s/step - loss: 0.4921 - accuracy: 0.7967 - val_loss: 0.2846 - val_accuracy: 0.8889 - lr: 0.0010\n",
            "Epoch 5/50\n",
            "30/30 [==============================] - 32s 1s/step - loss: 0.3765 - accuracy: 0.8550 - val_loss: 0.3660 - val_accuracy: 0.8399 - lr: 0.0010\n",
            "Epoch 6/50\n",
            "30/30 [==============================] - 32s 1s/step - loss: 0.4091 - accuracy: 0.8483 - val_loss: 0.5753 - val_accuracy: 0.7778 - lr: 0.0010\n",
            "Epoch 7/50\n",
            "30/30 [==============================] - 31s 1s/step - loss: 0.3652 - accuracy: 0.8517 - val_loss: 0.3553 - val_accuracy: 0.8431 - lr: 0.0010\n",
            "Epoch 8/50\n",
            "30/30 [==============================] - 31s 1s/step - loss: 0.3834 - accuracy: 0.8600 - val_loss: 0.2601 - val_accuracy: 0.9052 - lr: 0.0010\n",
            "Epoch 9/50\n",
            "30/30 [==============================] - 31s 1s/step - loss: 0.4037 - accuracy: 0.8383 - val_loss: 2.2640 - val_accuracy: 0.5850 - lr: 0.0010\n",
            "Epoch 10/50\n",
            "30/30 [==============================] - 31s 1s/step - loss: 0.3329 - accuracy: 0.8617 - val_loss: 0.2327 - val_accuracy: 0.9052 - lr: 0.0010\n",
            "Epoch 11/50\n",
            "30/30 [==============================] - 31s 1s/step - loss: 0.3129 - accuracy: 0.8817 - val_loss: 0.2639 - val_accuracy: 0.9281 - lr: 0.0010\n",
            "Epoch 12/50\n",
            "30/30 [==============================] - 32s 1s/step - loss: 0.3201 - accuracy: 0.8900 - val_loss: 0.2144 - val_accuracy: 0.9085 - lr: 0.0010\n",
            "Epoch 13/50\n",
            "30/30 [==============================] - 31s 1s/step - loss: 0.2629 - accuracy: 0.8983 - val_loss: 0.2450 - val_accuracy: 0.9346 - lr: 0.0010\n",
            "Epoch 14/50\n",
            "30/30 [==============================] - 31s 1s/step - loss: 0.2720 - accuracy: 0.8983 - val_loss: 0.2389 - val_accuracy: 0.9085 - lr: 0.0010\n",
            "Epoch 15/50\n",
            "30/30 [==============================] - 32s 1s/step - loss: 0.2019 - accuracy: 0.9200 - val_loss: 0.3815 - val_accuracy: 0.8693 - lr: 0.0010\n",
            "Epoch 16/50\n",
            "30/30 [==============================] - 31s 1s/step - loss: 0.2837 - accuracy: 0.9017 - val_loss: 0.4035 - val_accuracy: 0.8595 - lr: 0.0010\n",
            "Epoch 17/50\n",
            "30/30 [==============================] - 31s 1s/step - loss: 0.2413 - accuracy: 0.9033 - val_loss: 0.2187 - val_accuracy: 0.9216 - lr: 0.0010\n"
          ],
          "name": "stdout"
        }
      ]
    },
    {
      "cell_type": "code",
      "metadata": {
        "id": "ufrvB-u_4l8c",
        "colab_type": "code",
        "colab": {
          "base_uri": "https://localhost:8080/",
          "height": 545
        },
        "outputId": "591d9940-10f2-4dd6-d3cf-ba9a389a63f5"
      },
      "source": [
        "acc = history.history['accuracy']\n",
        "val_acc = history.history['val_accuracy']\n",
        "loss = history.history['loss']\n",
        "val_loss = history.history['val_loss']\n",
        "\n",
        "epochs = range(len(acc))\n",
        "\n",
        "plt.plot(epochs, acc, 'r', label='Training accuracy')\n",
        "plt.plot(epochs, val_acc, 'b', label='Validation accuracy')\n",
        "plt.title('Training and validation accuracy')\n",
        "plt.legend()\n",
        "\n",
        "plt.figure()\n",
        "\n",
        "plt.plot(epochs, loss, 'r', label='Training Loss')\n",
        "plt.plot(epochs, val_loss, 'b', label='Validation Loss')\n",
        "plt.title('Training and validation loss')\n",
        "plt.legend()\n",
        "\n",
        "plt.show()"
      ],
      "execution_count": null,
      "outputs": [
        {
          "output_type": "display_data",
          "data": {
            "image/png": "[encoded data removed]",
            "text/plain": [
              "<Figure size 432x288 with 1 Axes>"
            ]
          },
          "metadata": {
            "tags": [],
            "needs_background": "light"
          }
        },
        {
          "output_type": "display_data",
          "data": {
            "image/png": "[encoded data removed]",
            "text/plain": [
              "<Figure size 432x288 with 1 Axes>"
            ]
          },
          "metadata": {
            "tags": [],
            "needs_background": "light"
          }
        }
      ]
    },
    {
      "cell_type": "markdown",
      "metadata": {
        "id": "jpUexFrcWYk-",
        "colab_type": "text"
      },
      "source": [
        "**Prediction**"
      ]
    },
    {
      "cell_type": "code",
      "metadata": {
        "id": "pWWg0Wrpd8YM",
        "colab_type": "code",
        "colab": {}
      },
      "source": [
        "prediction = model.predict(test_generator)\n",
        "for i in range(len(prediction)):\n",
        "    if (prediction[i] >= 0.5):\n",
        "        prediction[i] = 1\n",
        "    else:\n",
        "        prediction[i] = 0"
      ],
      "execution_count": null,
      "outputs": []
    },
    {
      "cell_type": "code",
      "metadata": {
        "id": "HAHTw-cvDR33",
        "colab_type": "code",
        "colab": {
          "base_uri": "https://localhost:8080/",
          "height": 34
        },
        "outputId": "0a5ba1c6-fa19-48fa-d063-79fa7fb1b224"
      },
      "source": [
        "train_generator.class_indices"
      ],
      "execution_count": null,
      "outputs": [
        {
          "output_type": "execute_result",
          "data": {
            "text/plain": [
              "{'Mask': 0, 'Non Mask': 1}"
            ]
          },
          "metadata": {
            "tags": []
          },
          "execution_count": 23
        }
      ]
    },
    {
      "cell_type": "code",
      "metadata": {
        "id": "YpszHVZIDHz9",
        "colab_type": "code",
        "colab": {}
      },
      "source": [
        "for i in range(len(test)):\n",
        "    if (test.loc[i,'Class'] == 'Non_Mask'):\n",
        "        test.loc[i,'Class'] = 1\n",
        "    else:\n",
        "        test.loc[i,'Class'] = 0\n",
        "\n",
        "test['Class'] = test['Class'].astype('int')"
      ],
      "execution_count": null,
      "outputs": []
    },
    {
      "cell_type": "code",
      "metadata": {
        "id": "CRjblzNuBiaO",
        "colab_type": "code",
        "colab": {
          "base_uri": "https://localhost:8080/",
          "height": 51
        },
        "outputId": "89daa095-8292-4212-94d0-736e29b2ea09"
      },
      "source": [
        "confusion_matrix(test.iloc[:,-1].values , prediction) "
      ],
      "execution_count": null,
      "outputs": [
        {
          "output_type": "execute_result",
          "data": {
            "text/plain": [
              "array([[49,  1],\n",
              "       [ 0, 50]])"
            ]
          },
          "metadata": {
            "tags": []
          },
          "execution_count": 33
        }
      ]
    },
    {
      "cell_type": "code",
      "metadata": {
        "id": "ft63fWGTxsIu",
        "colab_type": "code",
        "colab": {
          "base_uri": "https://localhost:8080/",
          "height": 170
        },
        "outputId": "d9da232d-e4f0-49c1-e8dc-2f0e9573c03c"
      },
      "source": [
        "print(classification_report(test.iloc[:,-1].values , prediction))"
      ],
      "execution_count": null,
      "outputs": [
        {
          "output_type": "stream",
          "text": [
            "              precision    recall  f1-score   support\n",
            "\n",
            "           0       1.00      0.98      0.99        50\n",
            "           1       0.98      1.00      0.99        50\n",
            "\n",
            "    accuracy                           0.99       100\n",
            "   macro avg       0.99      0.99      0.99       100\n",
            "weighted avg       0.99      0.99      0.99       100\n",
            "\n"
          ],
          "name": "stdout"
        }
      ]
    },
    {
      "cell_type": "markdown",
      "metadata": {
        "id": "5_Li7PeUWb41",
        "colab_type": "text"
      },
      "source": [
        "**Model Saving**"
      ]
    },
    {
      "cell_type": "code",
      "metadata": {
        "id": "cFzFmWdaEAH6",
        "colab_type": "code",
        "colab": {}
      },
      "source": [
        "model.save('VGG19_mask_predict.h5')"
      ],
      "execution_count": null,
      "outputs": []
    },
    {
      "cell_type": "code",
      "metadata": {
        "id": "SygPkrZ0aY-B",
        "colab_type": "code",
        "colab": {
          "base_uri": "https://localhost:8080/",
          "height": 35
        },
        "outputId": "c095c351-8ad4-4688-a9af-60327315069e"
      },
      "source": [
        "shutil.move(r'/content/VGG19_mask_predict.h5' , r'/content/drive/My Drive/Colab Notebooks')"
      ],
      "execution_count": null,
      "outputs": [
        {
          "output_type": "execute_result",
          "data": {
            "application/vnd.google.colaboratory.intrinsic": {
              "type": "string"
            },
            "text/plain": [
              "'/content/drive/My Drive/Colab Notebooks/VGG19_mask_predict.h5'"
            ]
          },
          "metadata": {
            "tags": []
          },
          "execution_count": 37
        }
      ]
    }
  ]
}